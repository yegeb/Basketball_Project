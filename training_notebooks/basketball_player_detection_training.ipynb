{
 "cells": [
  {
   "cell_type": "code",
   "execution_count": null,
   "id": "03160d98",
   "metadata": {
    "vscode": {
     "languageId": "plaintext"
    }
   },
   "outputs": [],
   "source": [
    "!pip install roboflow\n",
    "\n",
    "from roboflow import Roboflow\n",
    "rf = Roboflow(api_key=\"unauthorized\")\n",
    "project = rf.workspace(\"workspace-5ujvu\").project(\"basketball-players-fy4c2-vfsuv\")\n",
    "version = project.version(17)\n",
    "dataset = version.download(\"yolov5\")"
   ]
  },
  {
   "cell_type": "code",
   "execution_count": null,
   "id": "6fe05586",
   "metadata": {
    "vscode": {
     "languageId": "plaintext"
    }
   },
   "outputs": [],
   "source": [
    "import shutil\n",
    "shutil.move(src=\"Basketball-Players-17/train\", \n",
    "            dst=\"Basketball-Players-17/Basketball-Players-17/train\")\n",
    "\n",
    "shutil.move(src=\"Basketball-Players-17/valid\", \n",
    "            dst=\"Basketball-Players-17/Basketball-Players-17/valid\")\n",
    "\n",
    "shutil.move(src=\"Basketball-Players-17/test\", \n",
    "            dst=\"Basketball-Players-17/Basketball-Players-17/test\")"
   ]
  },
  {
   "cell_type": "code",
   "execution_count": null,
   "id": "a09c8880",
   "metadata": {
    "vscode": {
     "languageId": "plaintext"
    }
   },
   "outputs": [],
   "source": [
    "!yolo task=detect mode=train model=yolov5l6u.pt data={dataset.location}/data.yml epochs=100 imgsz=640 batch=8 plots=True"
   ]
  }
 ],
 "metadata": {
  "language_info": {
   "name": "python"
  }
 },
 "nbformat": 4,
 "nbformat_minor": 5
}
