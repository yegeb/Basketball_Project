{
 "cells": [
  {
   "cell_type": "code",
   "execution_count": null,
   "id": "441566e4",
   "metadata": {
    "vscode": {
     "languageId": "plaintext"
    }
   },
   "outputs": [],
   "source": [
    "!pip install roboflow\n",
    "\n",
    "from roboflow import Roboflow\n",
    "rf = Roboflow(api_key=\"unauthorized\")\n",
    "project = rf.workspace(\"workspace-5ujvu\").project(\"basketball-players-fy4c2-vfsuv\")\n",
    "version = project.version(17)\n",
    "dataset = version.download(\"yolov5\")"
   ]
  },
  {
   "cell_type": "code",
   "execution_count": null,
   "id": "304befe4",
   "metadata": {
    "vscode": {
     "languageId": "plaintext"
    }
   },
   "outputs": [],
   "source": [
    "import shutil\n",
    "shutil.move(src=\"Basketball-Players-17/train\", \n",
    "            dst=\"Basketball-Players-17/Basketball-Players-17/train\")\n",
    "\n",
    "shutil.move(src=\"Basketball-Players-17/valid\", \n",
    "            dst=\"Basketball-Players-17/Basketball-Players-17/valid\")\n",
    "\n",
    "shutil.move(src=\"Basketball-Players-17/test\", \n",
    "            dst=\"Basketball-Players-17/Basketball-Players-17/test\")"
   ]
  },
  {
   "cell_type": "code",
   "execution_count": null,
   "id": "763f4d4b",
   "metadata": {
    "vscode": {
     "languageId": "plaintext"
    }
   },
   "outputs": [],
   "source": [
    "!yolo task=detect mode=train model=yolov5l6u.pt data={dataset.location}/data.yml epochs=250 imgsz=640 batch=8 plots=True"
   ]
  }
 ],
 "metadata": {
  "language_info": {
   "name": "python"
  }
 },
 "nbformat": 4,
 "nbformat_minor": 5
}
