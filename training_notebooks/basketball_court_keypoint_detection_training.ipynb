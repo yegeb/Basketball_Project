{
 "cells": [
  {
   "cell_type": "code",
   "execution_count": null,
   "id": "9b94fad3",
   "metadata": {
    "vscode": {
     "languageId": "plaintext"
    }
   },
   "outputs": [],
   "source": [
    "!pip install roboflow\n",
    "!pip install ultralytics"
   ]
  },
  {
   "cell_type": "code",
   "execution_count": null,
   "id": "f9830139",
   "metadata": {
    "vscode": {
     "languageId": "plaintext"
    }
   },
   "outputs": [],
   "source": [
    "!pip install roboflow\n",
    "\n",
    "from roboflow import Roboflow\n",
    "rf = Roboflow(api_key=\"mfsmeaVUXWEKh4C9VUkK\")\n",
    "project = rf.workspace(\"fyp-3bwmg\").project(\"reloc2-den7l\")\n",
    "version = project.version(1)\n",
    "dataset = version.download(\"yolov8\")"
   ]
  },
  {
   "cell_type": "code",
   "execution_count": null,
   "id": "9b2cf19a",
   "metadata": {
    "vscode": {
     "languageId": "plaintext"
    }
   },
   "outputs": [],
   "source": [
    "!yolo task=pose mode=train plots=True batch=16 model=yolov8x-pose.pt data={dataset.location}/data.yaml epochs=500 imgsize=640"
   ]
  }
 ],
 "metadata": {
  "language_info": {
   "name": "python"
  }
 },
 "nbformat": 4,
 "nbformat_minor": 5
}
